{
  "cells": [
    {
      "cell_type": "markdown",
      "metadata": {
        "id": "zGxXHqwmSND9"
      },
      "source": [
        "# Телеграм-бот"
      ]
    },
    {
      "cell_type": "code",
      "execution_count": null,
      "metadata": {
        "id": "SOx_SKdRN6s0"
      },
      "outputs": [],
      "source": [
        "!pip install pyTelegramBotAPI"
      ]
    },
    {
      "cell_type": "code",
      "execution_count": null,
      "metadata": {
        "id": "QYxDPzTQOEaa"
      },
      "outputs": [],
      "source": [
        "import cv2\n",
        "import telebot"
      ]
    },
    {
      "cell_type": "code",
      "execution_count": null,
      "metadata": {
        "id": "A578sDm_-BJ9"
      },
      "outputs": [],
      "source": [
        "from google.colab.patches import cv2_imshow\n",
        "import cv2\n",
        "import numpy as np\n",
        "import PIL\n",
        "import time"
      ]
    },
    {
      "cell_type": "code",
      "execution_count": null,
      "metadata": {
        "id": "8UlRIVhaYPd8"
      },
      "outputs": [],
      "source": [
        "# скопируем репозиторий darknet \n",
        "!git clone https://github.com/AlexeyAB/darknet"
      ]
    },
    {
      "cell_type": "code",
      "execution_count": null,
      "metadata": {
        "id": "FGNvNdcX9rGp"
      },
      "outputs": [],
      "source": [
        "# изменим кое-какие настройки\n",
        "%cd darknet\n",
        "!sed -i 's/OPENCV=0/OPENCV=1/' Makefile\n",
        "!sed -i 's/GPU=0/GPU=1/' Makefile\n",
        "!sed -i 's/CUDNN=0/CUDNN=1/' Makefile\n",
        "!sed -i 's/CUDNN_HALF=0/CUDNN_HALF=1/' Makefile\n",
        "!sed -i 's/LIBSO=0/LIBSO=1/' Makefile"
      ]
    },
    {
      "cell_type": "code",
      "execution_count": null,
      "metadata": {
        "id": "a5ogzikW9wk6"
      },
      "outputs": [],
      "source": [
        "# соберем получившееся решение, чтобы запускать файл darknet.py \n",
        "!make"
      ]
    },
    {
      "cell_type": "code",
      "execution_count": null,
      "metadata": {
        "id": "AORz9dHs7_kc"
      },
      "outputs": [],
      "source": [
        "# скачаем файл весов модели yolov4, натренированный определять 80 классов объектов \n",
        "!wget --load-cookies /tmp/cookies.txt \"https://docs.google.com/uc?export=download&confirm=$(wget --quiet --save-cookies /tmp/cookies.txt --keep-session-cookies --no-check-certificate 'https://docs.google.com/uc?export=download&id=1V3vsIaxAlGWvK4Aar9bAiK5U0QFttKwq' -O- | sed -rn 's/.*confirm=([0-9A-Za-z_]+).*/\\1\\n/p')&id=1V3vsIaxAlGWvK4Aar9bAiK5U0QFttKwq\" -O yolov4-csp.weights && rm -rf /tmp/cookies.txt"
      ]
    },
    {
      "cell_type": "code",
      "execution_count": null,
      "metadata": {
        "id": "JhrQqPc2HR27"
      },
      "outputs": [],
      "source": [
        "# импортируем darknet функции для детектирования объектов\n",
        "from darknet import *\n",
        "# загрузим YOLOv4 \n",
        "network, class_names, class_colors = load_network(\"cfg/yolov4-csp.cfg\", \"cfg/coco.data\", \"yolov4-csp.weights\")\n",
        "width = network_width(network)\n",
        "height = network_height(network)\n",
        "\n",
        "# darknet_helper функция для детектирования объектов на изображении\n",
        "def darknet_helper(img, width, height):\n",
        "  darknet_image = make_image(width, height, 3)\n",
        "  img_rgb = cv2.cvtColor(img, cv2.COLOR_BGR2RGB)\n",
        "  img_resized = cv2.resize(img_rgb, (width, height), interpolation=cv2.INTER_LINEAR)\n",
        "\n",
        "  # пересчет координат границ объектов, чтобы можно было отобразить на кадре\n",
        "  img_height, img_width, _ = img.shape\n",
        "  width_ratio = img_width/width\n",
        "  height_ratio = img_height/height\n",
        "\n",
        "  # запуск модели\n",
        "  copy_image_from_bytes(darknet_image, img_resized.tobytes())\n",
        "  detections = detect_image(network, class_names, darknet_image)\n",
        "  free_image(darknet_image)\n",
        "  return detections, width_ratio, height_ratio"
      ]
    },
    {
      "cell_type": "code",
      "execution_count": null,
      "metadata": {
        "id": "LIuOOO7tOiv5"
      },
      "outputs": [],
      "source": [
        "TOKEN = \"токен_вашего_бота\"\n",
        "bot = telebot.TeleBot(TOKEN)"
      ]
    },
    {
      "cell_type": "code",
      "execution_count": null,
      "metadata": {
        "id": "NVlzzdB3U7gE"
      },
      "outputs": [],
      "source": [
        "# хэндлер обработки команды /start, /help\n",
        "@bot.message_handler(commands=[\"start\", \"help\"])\n",
        "def commands_start(message):\n",
        "  bot.send_message(message.from_user.id, f\"{message.from_user.first_name}, добрый день. Рад приветствовать вас в detected_photo_bot.\\\n",
        "                                             Я умею обрабатывать изображения и находить на них объекты.\\\n",
        "                                             Давайте попробуем обработать изображение. Загрузите фотографию и я постараюсь определить находящиеся на ней объеты.\")"
      ]
    },
    {
      "cell_type": "code",
      "execution_count": null,
      "metadata": {
        "colab": {
          "background_save": true
        },
        "id": "L9Ny4IowQ2WY"
      },
      "outputs": [],
      "source": [
        "# хэндлер обработки изображений\n",
        "@bot.message_handler(content_types=['photo'])\n",
        "def photographio(message):\n",
        "  print(message)\n",
        "  file = bot.get_file(message.photo[-1].file_id)\n",
        "  bot.send_message(message.from_user.id, f'{message.from_user.first_name}, фото получил. Обрабатываю!')\n",
        "  dfile = bot.download_file(file.file_path)\n",
        "  fimg = message.photo[-1].file_id + '.png'\n",
        "\n",
        "  with open(fimg, 'wb') as new_file:\n",
        "     new_file.write(dfile)\n",
        "\n",
        "  image = cv2.imread(fimg)\n",
        "  detections, width_ratio, height_ratio = darknet_helper(image, width, height)\n",
        "\n",
        "  for label, confidence, bbox in detections:\n",
        "    left, top, right, bottom = bbox2points(bbox)\n",
        "    left, top, right, bottom = int(left * width_ratio), int(top * height_ratio), int(right * width_ratio), int(bottom * height_ratio)\n",
        "    cv2.rectangle(image, (left, top), (right, bottom), class_colors[label], 2)\n",
        "    cv2.putText(image, \"{} [{:.2f}]\".format(label, float(confidence)),\n",
        "                      (left, top - 5), cv2.FONT_HERSHEY_SIMPLEX, 0.5,\n",
        "                      class_colors[label], 2)\n",
        "  cv2.imwrite(fimg, image)\n",
        "  with open(fimg,'rb') as fil:\n",
        "        byte = fil.read()\n",
        "  print('отправлено')\n",
        "\n",
        "  bot.send_photo(message.from_user.id,  byte)\n",
        "  bot.send_message(message.from_user.id, f\"{message.from_user.first_name}, вот обработанное фото\")\n",
        "\n",
        "bot.infinity_polling()"
      ]
    },
    {
      "cell_type": "code",
      "execution_count": null,
      "metadata": {
        "id": "9qYk09ZqTye9"
      },
      "outputs": [],
      "source": [
        "# пустой хэндлер для обработки неизвестных команд\n",
        "@bot.message_handler()\n",
        "def echo_send(message):\n",
        "  bot.send_message(message.from_user.id, \"Я умею только обрабатывать изображения и находить на них объекты.\\nЗагрузите фото и я попробую определить, что на нём изображено\")"
      ]
    }
  ],
  "metadata": {
    "accelerator": "GPU",
    "colab": {
      "provenance": []
    },
    "kernelspec": {
      "display_name": "Python 3",
      "name": "python3"
    },
    "language_info": {
      "name": "python"
    }
  },
  "nbformat": 4,
  "nbformat_minor": 0
}